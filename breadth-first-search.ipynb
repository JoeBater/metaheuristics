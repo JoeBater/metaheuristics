{
 "cells": [
  {
   "cell_type": "markdown",
   "metadata": {},
   "source": [
    "# Breadth-first search\n",
    "\n",
    "https://www.udemy.com/course/ai-and-combinatorial-optimization-with-meta-heuristics/"
   ]
  },
  {
   "cell_type": "code",
   "execution_count": 1,
   "metadata": {},
   "outputs": [],
   "source": [
    "class Node:\n",
    "\n",
    "    def __init__(self, name):\n",
    "        self.name = name\n",
    "        self.adjacency_list = []\n",
    "        self.visited = False"
   ]
  },
  {
   "cell_type": "code",
   "execution_count": 2,
   "metadata": {},
   "outputs": [],
   "source": [
    "def breadth_first_search(start_node):\n",
    "\n",
    "    # FIFO: first item we insert will be the first one to take out\n",
    "    queue = [start_node]\n",
    "\n",
    "    # we keep iterating (considering the neighbors) until the queue becomes empty\n",
    "    while queue:\n",
    "\n",
    "        # remove and return the first item we have inserted into the list\n",
    "        actual_node = queue.pop(0)\n",
    "        actual_node.visited = True\n",
    "        print(actual_node.name)\n",
    "\n",
    "        # let's consider the neighbors of the actual_node one by one\n",
    "        for n in actual_node.adjacency_list:\n",
    "            if not n.visited:\n",
    "                queue.append(n)"
   ]
  },
  {
   "cell_type": "code",
   "execution_count": 5,
   "metadata": {},
   "outputs": [
    {
     "name": "stdout",
     "output_type": "stream",
     "text": [
      "A\n",
      "B\n",
      "G\n",
      "F\n",
      "D\n",
      "H\n",
      "E\n"
     ]
    }
   ],
   "source": [
    "if __name__ == '__main__':\n",
    "\n",
    "    # we can create the nodes or vertices\n",
    "    a = Node(\"A\")\n",
    "    b = Node(\"B\")\n",
    "    c = Node(\"C\")\n",
    "    d = Node(\"D\")\n",
    "    e = Node(\"E\")\n",
    "    f = Node('F')\n",
    "    g = Node('G')\n",
    "    h = Node('H')\n",
    "    \n",
    "    # we have to handle the neighbors\n",
    "    a.adjacency_list.append(b)\n",
    "    a.adjacency_list.append(g)\n",
    "    c.adjacency_list.append(b)\n",
    "    c.adjacency_list.append(d)\n",
    "    c.adjacency_list.append(e)\n",
    "    d.adjacency_list.append(h)\n",
    "    e.adjacency_list.append(d)\n",
    "    e.adjacency_list.append(h)\n",
    "    f.adjacency_list.append(d)\n",
    "    h.adjacency_list.append(e)\n",
    "    h.adjacency_list.append(f)\n",
    "    h.adjacency_list.append(g)\n",
    "    g.adjacency_list.append(f)\n",
    "    \n",
    "    # run the BFS\n",
    "    breadth_first_search(a)"
   ]
  },
  {
   "cell_type": "code",
   "execution_count": null,
   "metadata": {},
   "outputs": [],
   "source": []
  }
 ],
 "metadata": {
  "kernelspec": {
   "display_name": "Python 3",
   "language": "python",
   "name": "python3"
  },
  "language_info": {
   "codemirror_mode": {
    "name": "ipython",
    "version": 3
   },
   "file_extension": ".py",
   "mimetype": "text/x-python",
   "name": "python",
   "nbconvert_exporter": "python",
   "pygments_lexer": "ipython3",
   "version": "3.7.4"
  }
 },
 "nbformat": 4,
 "nbformat_minor": 2
}
